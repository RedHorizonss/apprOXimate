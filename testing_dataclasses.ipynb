{
 "cells": [
  {
   "cell_type": "code",
   "execution_count": 1,
   "id": "8f86add2",
   "metadata": {},
   "outputs": [],
   "source": [
    "from approximate import *"
   ]
  },
  {
   "cell_type": "code",
   "execution_count": 2,
   "id": "60fc259d",
   "metadata": {},
   "outputs": [],
   "source": [
    "# Create instance\n",
    "approx = ApprOXimate(verbose=False)\n",
    "\n",
    "# Test with your example\n",
    "formula = \"NaMn0.25Cu0.75O2\""
   ]
  },
  {
   "cell_type": "code",
   "execution_count": 3,
   "id": "b7b118f9",
   "metadata": {},
   "outputs": [
    {
     "name": "stdout",
     "output_type": "stream",
     "text": [
      "String result: Na:1:1.0;O:-2:2.0;Cu:2:0.75;Mn:4:0.083;Mn:7:0.167;FinalChargeBalance:0.0\n"
     ]
    }
   ],
   "source": [
    "# String output (original)\n",
    "result_string = approx.charge_balance(formula, return_format='string')\n",
    "print(\"String result:\", result_string)"
   ]
  },
  {
   "cell_type": "code",
   "execution_count": 4,
   "id": "cff23e7c",
   "metadata": {},
   "outputs": [
    {
     "name": "stdout",
     "output_type": "stream",
     "text": [
      "\n",
      "Dict result:\n",
      "Na: oxidation_state=1, quantity=1.0, SRP=-2.71\n",
      "O: oxidation_state=-2, quantity=2.0, SRP=1.23\n",
      "Cu: oxidation_state=2, quantity=0.75, SRP=0.159\n",
      "Mn:\n",
      "  Oxidation state 4: quantity=0.083, SRP=0.95\n",
      "  Oxidation state 7: quantity=0.167, SRP=1.7\n"
     ]
    }
   ],
   "source": [
    "# Dictionary output - now with proper SRP values\n",
    "result_dict = approx.charge_balance(formula, return_format='dict')\n",
    "print(\"\\nDict result:\")\n",
    "for element, data in result_dict['elements'].items():\n",
    "    if 'states' in data:  # Element with multiple oxidation states\n",
    "        print(f\"{element}:\")\n",
    "        for state in data['states']:\n",
    "            print(f\"  Oxidation state {state['oxidation_state']}: quantity={state['quantity']}, SRP={state['srp']}\")\n",
    "    else:  # Single oxidation state\n",
    "        print(f\"{element}: oxidation_state={data['oxidation_state']}, quantity={data['quantity']}, SRP={data['srp']}\")"
   ]
  },
  {
   "cell_type": "code",
   "execution_count": 6,
   "id": "0bb7b816",
   "metadata": {},
   "outputs": [
    {
     "name": "stdout",
     "output_type": "stream",
     "text": [
      "\n",
      "Object result:\n",
      "Na: +1, quantity=1.0, SRP=-2.71\n",
      "O: +-2, quantity=2.0, SRP=1.23\n",
      "Cu: +2, quantity=0.75, SRP=0.159\n",
      "Mn: +4, quantity=0.083, SRP=0.95\n",
      "Mn: +7, quantity=0.167, SRP=1.7\n"
     ]
    }
   ],
   "source": [
    "# Object output - now with proper SRP values\n",
    "result_obj = approx.charge_balance(formula, return_format='object')\n",
    "print(\"\\nObject result:\")\n",
    "for element_state in result_obj.elements:\n",
    "    print(f\"{element_state.element}: +{element_state.oxidation_state}, quantity={element_state.quantity}, SRP={element_state.srp}\")"
   ]
  },
  {
   "cell_type": "code",
   "execution_count": 7,
   "id": "abd855c2",
   "metadata": {},
   "outputs": [
    {
     "data": {
      "text/html": [
       "<div>\n",
       "<style scoped>\n",
       "    .dataframe tbody tr th:only-of-type {\n",
       "        vertical-align: middle;\n",
       "    }\n",
       "\n",
       "    .dataframe tbody tr th {\n",
       "        vertical-align: top;\n",
       "    }\n",
       "\n",
       "    .dataframe thead th {\n",
       "        text-align: right;\n",
       "    }\n",
       "</style>\n",
       "<table border=\"1\" class=\"dataframe\">\n",
       "  <thead>\n",
       "    <tr style=\"text-align: right;\">\n",
       "      <th></th>\n",
       "      <th>Element</th>\n",
       "      <th>Oxidation_State</th>\n",
       "      <th>Quantity</th>\n",
       "      <th>Is_Fixed</th>\n",
       "      <th>SRP</th>\n",
       "    </tr>\n",
       "  </thead>\n",
       "  <tbody>\n",
       "    <tr>\n",
       "      <th>0</th>\n",
       "      <td>Na</td>\n",
       "      <td>1</td>\n",
       "      <td>1.000</td>\n",
       "      <td>True</td>\n",
       "      <td>-2.710</td>\n",
       "    </tr>\n",
       "    <tr>\n",
       "      <th>1</th>\n",
       "      <td>O</td>\n",
       "      <td>-2</td>\n",
       "      <td>2.000</td>\n",
       "      <td>True</td>\n",
       "      <td>1.230</td>\n",
       "    </tr>\n",
       "    <tr>\n",
       "      <th>2</th>\n",
       "      <td>Cu</td>\n",
       "      <td>2</td>\n",
       "      <td>0.750</td>\n",
       "      <td>False</td>\n",
       "      <td>0.159</td>\n",
       "    </tr>\n",
       "    <tr>\n",
       "      <th>3</th>\n",
       "      <td>Mn</td>\n",
       "      <td>4</td>\n",
       "      <td>0.083</td>\n",
       "      <td>False</td>\n",
       "      <td>0.950</td>\n",
       "    </tr>\n",
       "    <tr>\n",
       "      <th>4</th>\n",
       "      <td>Mn</td>\n",
       "      <td>7</td>\n",
       "      <td>0.167</td>\n",
       "      <td>False</td>\n",
       "      <td>1.700</td>\n",
       "    </tr>\n",
       "  </tbody>\n",
       "</table>\n",
       "</div>"
      ],
      "text/plain": [
       "  Element  Oxidation_State  Quantity  Is_Fixed    SRP\n",
       "0      Na                1     1.000      True -2.710\n",
       "1       O               -2     2.000      True  1.230\n",
       "2      Cu                2     0.750     False  0.159\n",
       "3      Mn                4     0.083     False  0.950\n",
       "4      Mn                7     0.167     False  1.700"
      ]
     },
     "execution_count": 7,
     "metadata": {},
     "output_type": "execute_result"
    }
   ],
   "source": [
    "# DataFrame output - now with proper SRP values\n",
    "result_df = approx.charge_balance(formula, return_format='dataframe')\n",
    "\n",
    "result_df"
   ]
  }
 ],
 "metadata": {
  "kernelspec": {
   "display_name": ".venv",
   "language": "python",
   "name": "python3"
  },
  "language_info": {
   "codemirror_mode": {
    "name": "ipython",
    "version": 3
   },
   "file_extension": ".py",
   "mimetype": "text/x-python",
   "name": "python",
   "nbconvert_exporter": "python",
   "pygments_lexer": "ipython3",
   "version": "3.11.9"
  }
 },
 "nbformat": 4,
 "nbformat_minor": 5
}
